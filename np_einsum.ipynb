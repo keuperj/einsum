{
  "nbformat": 4,
  "nbformat_minor": 0,
  "metadata": {
    "colab": {
      "provenance": [],
      "authorship_tag": "ABX9TyPt36E7mtqHafVBy94VX2mQ",
      "include_colab_link": true
    },
    "kernelspec": {
      "name": "python3",
      "display_name": "Python 3"
    },
    "language_info": {
      "name": "python"
    }
  },
  "cells": [
    {
      "cell_type": "markdown",
      "metadata": {
        "id": "view-in-github",
        "colab_type": "text"
      },
      "source": [
        "<a href=\"https://colab.research.google.com/github/keuperj/einsum/blob/main/np_einsum.ipynb\" target=\"_parent\"><img src=\"https://colab.research.google.com/assets/colab-badge.svg\" alt=\"Open In Colab\"/></a>"
      ]
    },
    {
      "cell_type": "code",
      "execution_count": 1,
      "metadata": {
        "id": "qL_Ztmm3mOXi"
      },
      "outputs": [],
      "source": [
        "import numpy as np"
      ]
    },
    {
      "cell_type": "markdown",
      "source": [
        "### Linear Combination of three input to on output channel"
      ],
      "metadata": {
        "id": "J22GPyU5rJ5h"
      }
    },
    {
      "cell_type": "code",
      "source": [
        "A = np.ones((5,5))\n",
        "B = 2*A\n",
        "C = 4*A"
      ],
      "metadata": {
        "id": "Eue8dKMAmScz"
      },
      "execution_count": 4,
      "outputs": []
    },
    {
      "cell_type": "code",
      "source": [
        "H=np.array([A,B,C])"
      ],
      "metadata": {
        "id": "zpEKPcQ5oKmM"
      },
      "execution_count": 19,
      "outputs": []
    },
    {
      "cell_type": "code",
      "source": [
        "H.shape"
      ],
      "metadata": {
        "colab": {
          "base_uri": "https://localhost:8080/"
        },
        "id": "CbdYOmdUofwc",
        "outputId": "058984c0-7631-4fdd-e04a-b60b49e0c235"
      },
      "execution_count": 20,
      "outputs": [
        {
          "output_type": "execute_result",
          "data": {
            "text/plain": [
              "(3, 5, 5)"
            ]
          },
          "metadata": {},
          "execution_count": 20
        }
      ]
    },
    {
      "cell_type": "code",
      "source": [
        "a=np.array([1,2,3])"
      ],
      "metadata": {
        "id": "itqiJujKmWpV"
      },
      "execution_count": 5,
      "outputs": []
    },
    {
      "cell_type": "code",
      "source": [
        "%%timeit\n",
        "a[0]*A+a[1]*B+a[2]*C\n"
      ],
      "metadata": {
        "colab": {
          "base_uri": "https://localhost:8080/"
        },
        "id": "ryGhny-ymknl",
        "outputId": "86b8099e-5525-4559-8c55-58f73e504a9f"
      },
      "execution_count": 30,
      "outputs": [
        {
          "output_type": "stream",
          "name": "stdout",
          "text": [
            "6.66 µs ± 117 ns per loop (mean ± std. dev. of 7 runs, 100000 loops each)\n"
          ]
        }
      ]
    },
    {
      "cell_type": "code",
      "source": [
        "%%timeit\n",
        "np.einsum('kij,k->ij',H,a)"
      ],
      "metadata": {
        "colab": {
          "base_uri": "https://localhost:8080/"
        },
        "id": "VC5jeFFzmrrF",
        "outputId": "241b8495-2c0b-4de2-9b59-f4b4fc3a0bc6"
      },
      "execution_count": 31,
      "outputs": [
        {
          "output_type": "stream",
          "name": "stdout",
          "text": [
            "4.36 µs ± 1.26 µs per loop (mean ± std. dev. of 7 runs, 100000 loops each)\n"
          ]
        }
      ]
    },
    {
      "cell_type": "markdown",
      "source": [
        "### Multi output Channel\n",
        "3 input to 4 output"
      ],
      "metadata": {
        "id": "dR9Y-jQGrGJr"
      }
    },
    {
      "cell_type": "code",
      "source": [
        "b=np.array([a,a,a,a])"
      ],
      "metadata": {
        "id": "wX2MU0Cmm5_2"
      },
      "execution_count": 28,
      "outputs": []
    },
    {
      "cell_type": "code",
      "source": [
        "np.einsum('hij,kh->kij',H,b)"
      ],
      "metadata": {
        "colab": {
          "base_uri": "https://localhost:8080/"
        },
        "id": "fFlPpuNXraI0",
        "outputId": "9365a9aa-20f0-4155-ce29-abafa48877c8"
      },
      "execution_count": 29,
      "outputs": [
        {
          "output_type": "execute_result",
          "data": {
            "text/plain": [
              "array([[[17., 17., 17., 17., 17.],\n",
              "        [17., 17., 17., 17., 17.],\n",
              "        [17., 17., 17., 17., 17.],\n",
              "        [17., 17., 17., 17., 17.],\n",
              "        [17., 17., 17., 17., 17.]],\n",
              "\n",
              "       [[17., 17., 17., 17., 17.],\n",
              "        [17., 17., 17., 17., 17.],\n",
              "        [17., 17., 17., 17., 17.],\n",
              "        [17., 17., 17., 17., 17.],\n",
              "        [17., 17., 17., 17., 17.]],\n",
              "\n",
              "       [[17., 17., 17., 17., 17.],\n",
              "        [17., 17., 17., 17., 17.],\n",
              "        [17., 17., 17., 17., 17.],\n",
              "        [17., 17., 17., 17., 17.],\n",
              "        [17., 17., 17., 17., 17.]],\n",
              "\n",
              "       [[17., 17., 17., 17., 17.],\n",
              "        [17., 17., 17., 17., 17.],\n",
              "        [17., 17., 17., 17., 17.],\n",
              "        [17., 17., 17., 17., 17.],\n",
              "        [17., 17., 17., 17., 17.]]])"
            ]
          },
          "metadata": {},
          "execution_count": 29
        }
      ]
    },
    {
      "cell_type": "code",
      "source": [],
      "metadata": {
        "id": "HePLX9yvrjRM"
      },
      "execution_count": null,
      "outputs": []
    }
  ]
}