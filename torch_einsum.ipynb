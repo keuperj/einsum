{
  "nbformat": 4,
  "nbformat_minor": 0,
  "metadata": {
    "colab": {
      "provenance": [],
      "authorship_tag": "ABX9TyNBLks2PCFmmGv8HdgDpwxw",
      "include_colab_link": true
    },
    "kernelspec": {
      "name": "python3",
      "display_name": "Python 3"
    },
    "language_info": {
      "name": "python"
    }
  },
  "cells": [
    {
      "cell_type": "markdown",
      "metadata": {
        "id": "view-in-github",
        "colab_type": "text"
      },
      "source": [
        "<a href=\"https://colab.research.google.com/github/keuperj/einsum/blob/main/torch_einsum.ipynb\" target=\"_parent\"><img src=\"https://colab.research.google.com/assets/colab-badge.svg\" alt=\"Open In Colab\"/></a>"
      ]
    },
    {
      "cell_type": "code",
      "execution_count": 10,
      "metadata": {
        "id": "qL_Ztmm3mOXi"
      },
      "outputs": [],
      "source": [
        "import torch"
      ]
    },
    {
      "cell_type": "markdown",
      "source": [
        "### Linear Combination of three input to on output channel"
      ],
      "metadata": {
        "id": "J22GPyU5rJ5h"
      }
    },
    {
      "cell_type": "code",
      "source": [
        "A = torch.ones((5,5))\n",
        "B = 2*A\n",
        "C = 4*A"
      ],
      "metadata": {
        "id": "Eue8dKMAmScz"
      },
      "execution_count": 11,
      "outputs": []
    },
    {
      "cell_type": "code",
      "source": [
        "H=torch.stack([A, B, C])"
      ],
      "metadata": {
        "id": "zpEKPcQ5oKmM"
      },
      "execution_count": 17,
      "outputs": []
    },
    {
      "cell_type": "code",
      "source": [
        "H.shape"
      ],
      "metadata": {
        "colab": {
          "base_uri": "https://localhost:8080/"
        },
        "id": "CbdYOmdUofwc",
        "outputId": "b15ca0e2-2f57-47cc-f60c-27843da10157"
      },
      "execution_count": 18,
      "outputs": [
        {
          "output_type": "execute_result",
          "data": {
            "text/plain": [
              "torch.Size([3, 5, 5])"
            ]
          },
          "metadata": {},
          "execution_count": 18
        }
      ]
    },
    {
      "cell_type": "code",
      "source": [
        "a=torch.tensor([1.0,2.0,3.0])"
      ],
      "metadata": {
        "id": "itqiJujKmWpV"
      },
      "execution_count": 22,
      "outputs": []
    },
    {
      "cell_type": "code",
      "source": [
        "%%timeit\n",
        "a[0]*A+a[1]*B+a[2]*C\n"
      ],
      "metadata": {
        "colab": {
          "base_uri": "https://localhost:8080/"
        },
        "id": "ryGhny-ymknl",
        "outputId": "26198e75-3b25-451e-deea-3cf6acaebffe"
      },
      "execution_count": 28,
      "outputs": [
        {
          "output_type": "stream",
          "name": "stdout",
          "text": [
            "20.8 µs ± 567 ns per loop (mean ± std. dev. of 7 runs, 10000 loops each)\n"
          ]
        }
      ]
    },
    {
      "cell_type": "code",
      "source": [
        "%%timeit\n",
        "torch.einsum('kij,k->ij',H,a)"
      ],
      "metadata": {
        "colab": {
          "base_uri": "https://localhost:8080/"
        },
        "id": "VC5jeFFzmrrF",
        "outputId": "9e815c3d-c97f-4f9d-c279-e399b5c51837"
      },
      "execution_count": 29,
      "outputs": [
        {
          "output_type": "stream",
          "name": "stdout",
          "text": [
            "25.9 µs ± 951 ns per loop (mean ± std. dev. of 7 runs, 10000 loops each)\n"
          ]
        }
      ]
    },
    {
      "cell_type": "markdown",
      "source": [
        "### Multi output Channel\n",
        "3 input to 4 output"
      ],
      "metadata": {
        "id": "dR9Y-jQGrGJr"
      }
    },
    {
      "cell_type": "code",
      "source": [
        "b=torch.stack([a,a,a,a])"
      ],
      "metadata": {
        "id": "wX2MU0Cmm5_2"
      },
      "execution_count": 26,
      "outputs": []
    },
    {
      "cell_type": "code",
      "source": [
        "torch.einsum('hij,kh->kij',H,b)"
      ],
      "metadata": {
        "colab": {
          "base_uri": "https://localhost:8080/"
        },
        "id": "fFlPpuNXraI0",
        "outputId": "74e867d6-d002-4107-8edc-9e32b03c6d8f"
      },
      "execution_count": 27,
      "outputs": [
        {
          "output_type": "execute_result",
          "data": {
            "text/plain": [
              "tensor([[[17., 17., 17., 17., 17.],\n",
              "         [17., 17., 17., 17., 17.],\n",
              "         [17., 17., 17., 17., 17.],\n",
              "         [17., 17., 17., 17., 17.],\n",
              "         [17., 17., 17., 17., 17.]],\n",
              "\n",
              "        [[17., 17., 17., 17., 17.],\n",
              "         [17., 17., 17., 17., 17.],\n",
              "         [17., 17., 17., 17., 17.],\n",
              "         [17., 17., 17., 17., 17.],\n",
              "         [17., 17., 17., 17., 17.]],\n",
              "\n",
              "        [[17., 17., 17., 17., 17.],\n",
              "         [17., 17., 17., 17., 17.],\n",
              "         [17., 17., 17., 17., 17.],\n",
              "         [17., 17., 17., 17., 17.],\n",
              "         [17., 17., 17., 17., 17.]],\n",
              "\n",
              "        [[17., 17., 17., 17., 17.],\n",
              "         [17., 17., 17., 17., 17.],\n",
              "         [17., 17., 17., 17., 17.],\n",
              "         [17., 17., 17., 17., 17.],\n",
              "         [17., 17., 17., 17., 17.]]])"
            ]
          },
          "metadata": {},
          "execution_count": 27
        }
      ]
    },
    {
      "cell_type": "markdown",
      "source": [
        "### GPU"
      ],
      "metadata": {
        "id": "qp5BgUf0RbXb"
      }
    },
    {
      "cell_type": "code",
      "source": [],
      "metadata": {
        "id": "HePLX9yvrjRM"
      },
      "execution_count": 9,
      "outputs": []
    },
    {
      "cell_type": "markdown",
      "source": [
        "### Batch\n"
      ],
      "metadata": {
        "id": "ZfughXN5RffT"
      }
    },
    {
      "cell_type": "code",
      "source": [],
      "metadata": {
        "id": "RXsPu7ohRhe9"
      },
      "execution_count": null,
      "outputs": []
    }
  ]
}