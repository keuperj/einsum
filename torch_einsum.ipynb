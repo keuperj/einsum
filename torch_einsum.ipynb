{
  "nbformat": 4,
  "nbformat_minor": 0,
  "metadata": {
    "colab": {
      "provenance": [],
      "gpuType": "T4",
      "authorship_tag": "ABX9TyOOHo6l8ZUMYrh3qenUKPw7",
      "include_colab_link": true
    },
    "kernelspec": {
      "name": "python3",
      "display_name": "Python 3"
    },
    "language_info": {
      "name": "python"
    },
    "accelerator": "GPU"
  },
  "cells": [
    {
      "cell_type": "markdown",
      "metadata": {
        "id": "view-in-github",
        "colab_type": "text"
      },
      "source": [
        "<a href=\"https://colab.research.google.com/github/keuperj/einsum/blob/main/torch_einsum.ipynb\" target=\"_parent\"><img src=\"https://colab.research.google.com/assets/colab-badge.svg\" alt=\"Open In Colab\"/></a>"
      ]
    },
    {
      "cell_type": "code",
      "execution_count": 1,
      "metadata": {
        "id": "qL_Ztmm3mOXi"
      },
      "outputs": [],
      "source": [
        "import torch"
      ]
    },
    {
      "cell_type": "markdown",
      "source": [
        "### Linear Combination of three input to on output channel"
      ],
      "metadata": {
        "id": "J22GPyU5rJ5h"
      }
    },
    {
      "cell_type": "code",
      "source": [
        "A = torch.ones((5,5))\n",
        "B = 2*A\n",
        "C = 4*A"
      ],
      "metadata": {
        "id": "Eue8dKMAmScz"
      },
      "execution_count": 2,
      "outputs": []
    },
    {
      "cell_type": "code",
      "source": [
        "H=torch.stack([A, B, C])"
      ],
      "metadata": {
        "id": "zpEKPcQ5oKmM"
      },
      "execution_count": 3,
      "outputs": []
    },
    {
      "cell_type": "code",
      "source": [
        "H.shape"
      ],
      "metadata": {
        "colab": {
          "base_uri": "https://localhost:8080/"
        },
        "id": "CbdYOmdUofwc",
        "outputId": "3df2a310-76e6-4c48-c693-86650ae6885c"
      },
      "execution_count": 4,
      "outputs": [
        {
          "output_type": "execute_result",
          "data": {
            "text/plain": [
              "torch.Size([3, 5, 5])"
            ]
          },
          "metadata": {},
          "execution_count": 4
        }
      ]
    },
    {
      "cell_type": "code",
      "source": [
        "a=torch.tensor([1.0,2.0,3.0])"
      ],
      "metadata": {
        "id": "itqiJujKmWpV"
      },
      "execution_count": 5,
      "outputs": []
    },
    {
      "cell_type": "code",
      "source": [
        "%%timeit\n",
        "a[0]*A+a[1]*B+a[2]*C\n"
      ],
      "metadata": {
        "colab": {
          "base_uri": "https://localhost:8080/"
        },
        "id": "ryGhny-ymknl",
        "outputId": "7f3d52bb-2a56-4d54-dcb1-66fe03cbd91a"
      },
      "execution_count": 6,
      "outputs": [
        {
          "output_type": "stream",
          "name": "stdout",
          "text": [
            "34.7 µs ± 5.49 µs per loop (mean ± std. dev. of 7 runs, 10000 loops each)\n"
          ]
        }
      ]
    },
    {
      "cell_type": "code",
      "source": [
        "%%timeit\n",
        "torch.einsum('kij,k->ij',H,a)"
      ],
      "metadata": {
        "colab": {
          "base_uri": "https://localhost:8080/"
        },
        "id": "VC5jeFFzmrrF",
        "outputId": "6dbbbc26-475f-4e26-e800-469d2e88345a"
      },
      "execution_count": 7,
      "outputs": [
        {
          "output_type": "stream",
          "name": "stdout",
          "text": [
            "35.3 µs ± 9.26 µs per loop (mean ± std. dev. of 7 runs, 10000 loops each)\n"
          ]
        }
      ]
    },
    {
      "cell_type": "markdown",
      "source": [
        "### GPU"
      ],
      "metadata": {
        "id": "qp5BgUf0RbXb"
      }
    },
    {
      "cell_type": "code",
      "source": [
        "a.to(torch. device('cuda'))\n",
        "A.to(torch. device('cuda'))\n",
        "B.to(torch. device('cuda'))\n",
        "C.to(torch. device('cuda'))\n",
        "H.to(torch. device('cuda'))"
      ],
      "metadata": {
        "id": "Lyje8j8LSF2P",
        "outputId": "1a4fcb08-3e16-449d-f1a0-8348ee0a55ba",
        "colab": {
          "base_uri": "https://localhost:8080/"
        }
      },
      "execution_count": 9,
      "outputs": [
        {
          "output_type": "execute_result",
          "data": {
            "text/plain": [
              "tensor([[[1., 1., 1., 1., 1.],\n",
              "         [1., 1., 1., 1., 1.],\n",
              "         [1., 1., 1., 1., 1.],\n",
              "         [1., 1., 1., 1., 1.],\n",
              "         [1., 1., 1., 1., 1.]],\n",
              "\n",
              "        [[2., 2., 2., 2., 2.],\n",
              "         [2., 2., 2., 2., 2.],\n",
              "         [2., 2., 2., 2., 2.],\n",
              "         [2., 2., 2., 2., 2.],\n",
              "         [2., 2., 2., 2., 2.]],\n",
              "\n",
              "        [[4., 4., 4., 4., 4.],\n",
              "         [4., 4., 4., 4., 4.],\n",
              "         [4., 4., 4., 4., 4.],\n",
              "         [4., 4., 4., 4., 4.],\n",
              "         [4., 4., 4., 4., 4.]]], device='cuda:0')"
            ]
          },
          "metadata": {},
          "execution_count": 9
        }
      ]
    },
    {
      "cell_type": "code",
      "source": [
        "%%timeit\n",
        "a[0]*A+a[1]*B+a[2]*C"
      ],
      "metadata": {
        "id": "23DGDUfnSkEu",
        "outputId": "c52caa7e-41a6-4cc2-b3e8-0cf3c74d3326",
        "colab": {
          "base_uri": "https://localhost:8080/"
        }
      },
      "execution_count": 13,
      "outputs": [
        {
          "output_type": "stream",
          "name": "stdout",
          "text": [
            "20 µs ± 1.64 µs per loop (mean ± std. dev. of 7 runs, 100000 loops each)\n"
          ]
        }
      ]
    },
    {
      "cell_type": "code",
      "source": [
        "%%timeit\n",
        "torch.einsum('kij,k->ij',H,a)"
      ],
      "metadata": {
        "id": "o522bXqPSuNp",
        "outputId": "21e2fd83-8822-43fa-f550-66a05aed38d1",
        "colab": {
          "base_uri": "https://localhost:8080/"
        }
      },
      "execution_count": 14,
      "outputs": [
        {
          "output_type": "stream",
          "name": "stdout",
          "text": [
            "29.8 µs ± 6.3 µs per loop (mean ± std. dev. of 7 runs, 10000 loops each)\n"
          ]
        }
      ]
    },
    {
      "cell_type": "markdown",
      "source": [
        "### Multi output Channel\n",
        "3 input to 4 output"
      ],
      "metadata": {
        "id": "dR9Y-jQGrGJr"
      }
    },
    {
      "cell_type": "code",
      "source": [
        "b=torch.stack([a,a,a,a])\n",
        "b.to(torch. device('cuda'))"
      ],
      "metadata": {
        "id": "wX2MU0Cmm5_2",
        "colab": {
          "base_uri": "https://localhost:8080/"
        },
        "outputId": "25023d72-992f-4a4e-db3b-ec89d39d5a6b"
      },
      "execution_count": 15,
      "outputs": [
        {
          "output_type": "execute_result",
          "data": {
            "text/plain": [
              "tensor([[1., 2., 3.],\n",
              "        [1., 2., 3.],\n",
              "        [1., 2., 3.],\n",
              "        [1., 2., 3.]], device='cuda:0')"
            ]
          },
          "metadata": {},
          "execution_count": 15
        }
      ]
    },
    {
      "cell_type": "code",
      "source": [
        "torch.einsum('hij,kh->kij',H,b)"
      ],
      "metadata": {
        "colab": {
          "base_uri": "https://localhost:8080/"
        },
        "id": "fFlPpuNXraI0",
        "outputId": "7fa1cf90-7392-4f04-d730-8a32cd85c99a"
      },
      "execution_count": 16,
      "outputs": [
        {
          "output_type": "execute_result",
          "data": {
            "text/plain": [
              "tensor([[[17., 17., 17., 17., 17.],\n",
              "         [17., 17., 17., 17., 17.],\n",
              "         [17., 17., 17., 17., 17.],\n",
              "         [17., 17., 17., 17., 17.],\n",
              "         [17., 17., 17., 17., 17.]],\n",
              "\n",
              "        [[17., 17., 17., 17., 17.],\n",
              "         [17., 17., 17., 17., 17.],\n",
              "         [17., 17., 17., 17., 17.],\n",
              "         [17., 17., 17., 17., 17.],\n",
              "         [17., 17., 17., 17., 17.]],\n",
              "\n",
              "        [[17., 17., 17., 17., 17.],\n",
              "         [17., 17., 17., 17., 17.],\n",
              "         [17., 17., 17., 17., 17.],\n",
              "         [17., 17., 17., 17., 17.],\n",
              "         [17., 17., 17., 17., 17.]],\n",
              "\n",
              "        [[17., 17., 17., 17., 17.],\n",
              "         [17., 17., 17., 17., 17.],\n",
              "         [17., 17., 17., 17., 17.],\n",
              "         [17., 17., 17., 17., 17.],\n",
              "         [17., 17., 17., 17., 17.]]])"
            ]
          },
          "metadata": {},
          "execution_count": 16
        }
      ]
    },
    {
      "cell_type": "code",
      "source": [],
      "metadata": {
        "id": "HePLX9yvrjRM"
      },
      "execution_count": 9,
      "outputs": []
    },
    {
      "cell_type": "markdown",
      "source": [
        "### Batch\n"
      ],
      "metadata": {
        "id": "ZfughXN5RffT"
      }
    },
    {
      "cell_type": "code",
      "source": [],
      "metadata": {
        "id": "RXsPu7ohRhe9"
      },
      "execution_count": null,
      "outputs": []
    }
  ]
}